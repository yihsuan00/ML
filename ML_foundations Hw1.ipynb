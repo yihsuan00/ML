{
 "cells": [
  {
   "cell_type": "code",
   "execution_count": 26,
   "metadata": {},
   "outputs": [],
   "source": [
    "import numpy as np\n",
    "import matplotlib.pyplot as plt\n",
    "from urllib.request import urlopen\n",
    "import requests\n",
    "import pickle\n",
    "import pandas as pd\n",
    "\n",
    "def dataloader(filename):\n",
    "    #initial to download the data\n",
    "    #response = requests.get('https://www.csie.ntu.edu.tw/~htlin/course/mlfound19fall/hw1/hw1_6_train.dat')\n",
    "    #raw_data = response.text\n",
    "    #file = open('data.txt','wb')\n",
    "    #pickle.dump(raw_data,file)\n",
    "\n",
    "    data = np.genfromtxt(filename)\n",
    "    row, col = data.shape\n",
    "    #add 1 at the front of the x\n",
    "    X = np.c_[np.ones((row, 1)), data[:, 0: col-1]]\n",
    "    Y = data[:, col-1:col]\n",
    "    #r,c = X.shape\n",
    "    #w = np.zeros((c,1))\n",
    "    #print('num',num)\n",
    "    return X,Y\n",
    "\n",
    "\n",
    "def PLA(X,Y,max_times,eta = 1):\n",
    "    times =0 \n",
    "    row, col = X.shape\n",
    "    i = 0 #輪到的數據號碼\n",
    "    w = np.zeros(col)\n",
    "    while times < max_times:\n",
    "        num = np.sum(X.dot(w) * Y[:,0] > 0)\n",
    "        #print(\"X\",X)\n",
    "        #print(\"X.dot(w)\",X.dot(w))\n",
    "        #print(\"y\",Y)\n",
    "        #print('num',num)\n",
    "        if num == row:\n",
    "            break\n",
    "        dot_answer = X[i,:].dot(w)*Y[i,0]\n",
    "        if np.sign(dot_answer) <= 0:\n",
    "            times = times + 1\n",
    "            w += eta*Y[i]*X[i,:]\n",
    "        i += 1\n",
    "    #let i in the range of row\n",
    "        if i >= row:\n",
    "            i = i - row\n",
    "    return times,w\n",
    "\n",
    "def ErrorRate(X,Y,w):\n",
    "    num =  np.sum(X.dot(w) * Y[:,0] <= 0)\n",
    "    row = X.shape[0]\n",
    "    return num/row\n",
    "\n",
    "def PocketPLA(X,Y,max_times,eta = 1):\n",
    "    times = 0\n",
    "    row, col = X.shape\n",
    "    i = 0\n",
    "    w = np.zeros(col)\n",
    "    wp = np.zeros(col)\n",
    "    error = ErrorRate(X,Y,w)\n",
    "    #print('error',error)\n",
    "    while times < max_times:\n",
    "        if error == 0:\n",
    "            break\n",
    "        dot_answer = X[i,:].dot(w)*Y[i,0]\n",
    "        if np.sign(dot_answer) <= 0:\n",
    "            times = times + 1\n",
    "            w += eta*Y[i]*X[i,:]\n",
    "            #get present error\n",
    "            errorp = ErrorRate(X,Y,w)\n",
    "            #print('errorp',errorp)\n",
    "            if errorp < error:\n",
    "                error = errorp\n",
    "                wp = np.copy(w)\n",
    "        i = i + 1\n",
    "        if i >= row:\n",
    "            i = i - row\n",
    "    return wp, error"
   ]
  },
  {
   "cell_type": "code",
   "execution_count": 31,
   "metadata": {},
   "outputs": [
    {
     "data": {
      "image/png": "[encoded data removed]",
      "text/plain": [
       "<Figure size 432x288 with 1 Axes>"
      ]
     },
     "metadata": {},
     "output_type": "display_data"
    }
   ],
   "source": [
    "if __name__ == \"__main__\":\n",
    "    #problem 6\n",
    "    Xs,Ys = dataloader('hw1_6_train.txt')\n",
    "    Times = []\n",
    "    for _ in range(1126):\n",
    "        row = Xs.shape[0]\n",
    "        randseed = np.random.permutation(row)\n",
    "        Xrnd = Xs[randseed, :]\n",
    "        Yrnd = Ys[randseed, 0:1]\n",
    "        times = PLA(Xrnd,Yrnd,np.inf)[0]\n",
    "        Times.append(times)\n",
    "    pic = pd.Series(Times)\n",
    "    pic.plot.hist(bins=20, rwidth=0.9,color='#607c8e')\n",
    "    plt.title(f'PLA for 1126 times average {np.mean(Times)}')\n",
    "    plt.xlabel('Counts')\n",
    "    plt.ylabel('times')\n",
    "    plt.savefig('problem 6.png')\n",
    " "
   ]
  },
  {
   "cell_type": "code",
   "execution_count": 28,
   "metadata": {},
   "outputs": [
    {
     "data": {
      "image/png": "[encoded data removed]",
      "text/plain": [
       "<Figure size 432x288 with 1 Axes>"
      ]
     },
     "metadata": {},
     "output_type": "display_data"
    }
   ],
   "source": [
    "if __name__ == \"__main__\":\n",
    "   #problem 7\n",
    "    Xse,Yse = dataloader('hw1_7_train.txt')\n",
    "    Xset,Yset = dataloader('hw1_7_test.txt')\n",
    "    ErrorTimes = []\n",
    "    row = Xse.shape[0]\n",
    "    for _ in range(1126):\n",
    "        randseed = np.random.permutation(row)\n",
    "        Xrnd = Xse[randseed, :]\n",
    "        Yrnd = Yse[randseed, :]\n",
    "        wp = PocketPLA(Xrnd,Yrnd,100,eta=1)[0]\n",
    "        ErrorTimes.append(ErrorRate(Xset,Yset,wp))\n",
    "    pics = pd.Series(ErrorTimes)\n",
    "    pics.plot.hist(bins=20, rwidth=0.9,color='#607c8e')\n",
    "    plt.title(f'Pocket PLA for 1126 times average {np.mean(ErrorTimes)}')\n",
    "    plt.xlabel('ErrorRate')\n",
    "    plt.ylabel('times')\n",
    "    plt.savefig('problem 7.png')"
   ]
  },
  {
   "cell_type": "code",
   "execution_count": 33,
   "metadata": {},
   "outputs": [
    {
     "data": {
      "image/png": "[encoded data removed]",
      "text/plain": [
       "<Figure size 432x288 with 1 Axes>"
      ]
     },
     "metadata": {},
     "output_type": "display_data"
    }
   ],
   "source": [
    "if __name__ == \"__main__\":\n",
    "    #problem 8\n",
    "    Xse,Yse = dataloader('hw1_7_train.txt')\n",
    "    Xset,Yset = dataloader('hw1_7_test.txt')\n",
    "    row = Xse.shape[0]\n",
    "    ErrorRecord = []\n",
    "    for _ in range(1126):\n",
    "        randseed = np.random.permutation(row)\n",
    "        Xrnd = Xse[randseed, :]\n",
    "        Yrnd = Yse[randseed, :]\n",
    "        wp = PLA(Xrnd,Yrnd,100,eta=1)[1]\n",
    "        ErrorRecord.append(ErrorRate(Xset,Yset,wp))\n",
    "    pice = pd.Series(ErrorRecord)\n",
    "    pice.plot.hist(bins=20, rwidth=0.9,color='#607c8e')\n",
    "    plt.title(f'PLA for 1126 times average {np.mean(ErrorRecord)}')\n",
    "    plt.xlabel('ErrorRate')\n",
    "    plt.ylabel('times')\n",
    "    plt.savefig('problem 8.png')"
   ]
  },
  {
   "cell_type": "code",
   "execution_count": null,
   "metadata": {},
   "outputs": [],
   "source": []
  },
  {
   "cell_type": "code",
   "execution_count": null,
   "metadata": {},
   "outputs": [],
   "source": []
  }
 ],
 "metadata": {
  "kernelspec": {
   "display_name": "Python 3",
   "language": "python",
   "name": "python3"
  },
  "language_info": {
   "codemirror_mode": {
    "name": "ipython",
    "version": 3
   },
   "file_extension": ".py",
   "mimetype": "text/x-python",
   "name": "python",
   "nbconvert_exporter": "python",
   "pygments_lexer": "ipython3",
   "version": "3.6.5"
  }
 },
 "nbformat": 4,
 "nbformat_minor": 2
}
